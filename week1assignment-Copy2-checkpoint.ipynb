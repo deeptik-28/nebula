{
 "cells": [
  {
   "cell_type": "code",
   "execution_count": 1,
   "metadata": {
    "colab": {},
    "colab_type": "code",
    "id": "F-6bE0dYcBgA"
   },
   "outputs": [],
   "source": [
    "## Import stuff\n",
    "import matplotlib.pyplot as plt \n",
    "import numpy as np\n",
    "from sklearn import datasets, linear_model, metrics"
   ]
  },
  {
   "cell_type": "code",
   "execution_count": 3,
   "metadata": {
    "colab": {},
    "colab_type": "code",
    "id": "gK71NIhMcEs5"
   },
   "outputs": [],
   "source": [
    "## Load the diabetes dataset\n",
    "diabetes = datasets.load_diabetes()\n",
    "diabetes_X = diabetes.data # matrix of dimensions 442x10\n",
    " \n",
    "# Split the data into training/testing sets\n",
    "diabetes_X_train = diabetes_X[:-20]\n",
    "diabetes_X_test = diabetes_X[-20:]\n",
    " \n",
    "# Split the targets into training/testing sets\n",
    "diabetes_y_train = diabetes.target[:-20]\n",
    "diabetes_y_test = diabetes.target[-20:]\n"
   ]
  },
  {
   "cell_type": "code",
   "execution_count": 79,
   "metadata": {
    "colab": {},
    "colab_type": "code",
    "id": "XJTg22ybcHsl",
    "scrolled": true
   },
   "outputs": [
    {
     "name": "stdout",
     "output_type": "stream",
     "text": [
      "Epoch 0: 14734.323460\n",
      "[3.06725118]\n",
      "Epoch 6000: 1903.159983\n",
      "[153.20453894]\n",
      "Epoch 12000: 1668.000072\n",
      "[153.08794667]\n",
      "Epoch 18000: 1576.932668\n",
      "[153.00180781]\n",
      "Epoch 24000: 1529.666469\n",
      "[152.93762538]\n",
      "Epoch 30000: 1502.822276\n",
      "[152.88941323]\n",
      "Epoch 36000: 1487.104382\n",
      "[152.85290972]\n",
      "Epoch 42000: 1477.735929\n",
      "[152.82505626]\n",
      "Epoch 48000: 1472.062781\n",
      "[152.80364198]\n",
      "Epoch 54000: 1468.570396\n",
      "[152.78705778]\n"
     ]
    },
    {
     "data": {
      "image/png": "[encoded data removed]",
      "text/plain": [
       "<Figure size 432x288 with 1 Axes>"
      ]
     },
     "metadata": {
      "needs_background": "light"
     },
     "output_type": "display_data"
    }
   ],
   "source": [
    "# train\n",
    "X = diabetes_X_train\n",
    "(m,n)=X.shape\n",
    "y = diabetes_y_train.reshape(m,1)\n",
    "# train: init\n",
    "W = np.zeros((n,1))\n",
    "b =0\n",
    " \n",
    "learning_rate =0.02\n",
    "epochs =60000\n",
    " \n",
    "# train: gradient descent\n",
    "cost=np.array([])\n",
    "for i in range(epochs):\n",
    "    # calculate predictions\n",
    "    y_pred=np.dot(X,W)+b\n",
    " \n",
    "    # calculate error and cost (mean squared error)\n",
    "    error=(y_pred-y)\n",
    "    mean_squared_error=(1/(2*m))*sum(error**2)\n",
    "\n",
    " \n",
    "    # calculate gradients\n",
    "    db=(1/m)*sum(error)\n",
    "    dW=np.dot(1/m*X.T,error)\n",
    " \n",
    "    # update parameters\n",
    "    b=b-(learning_rate*db)\n",
    "    W=W-(learning_rate*dW)\n",
    " \n",
    "    # diagnostic output\n",
    "    if i % 6000 == 0: \n",
    "        print(\"Epoch %d: %f\" % (i, mean_squared_error))\n",
    "        print(b)\n",
    "        cost=np.append(cost,mean_squared_error)\n",
    "p=np.arange(0,epochs,6000)\n",
    "plt.plot(p,cost)\n",
    "plt.show()\n",
    "        "
   ]
  },
  {
   "cell_type": "code",
   "execution_count": 80,
   "metadata": {
    "colab": {},
    "colab_type": "code",
    "id": "uvSdTn-0cKJL"
   },
   "outputs": [
    {
     "name": "stdout",
     "output_type": "stream",
     "text": [
      "Coefficients: \n",
      " [[  11.34806729]\n",
      " [-209.93907877]\n",
      " [ 494.80208831]\n",
      " [ 312.03074444]\n",
      " [ -53.18378717]\n",
      " [-110.57268549]\n",
      " [-211.539782  ]\n",
      " [ 129.49739558]\n",
      " [ 412.21849066]\n",
      " [ 116.40077764]]\n",
      "Mean squared error: 1042.02\n",
      "========================================================================================================================\n"
     ]
    }
   ],
   "source": [
    "# test\n",
    "X = diabetes_X_test\n",
    "y = diabetes_y_test\n",
    "(u,v)=X.shape\n",
    "y = diabetes_y_test.reshape(u,1)\n",
    "# calculate predictions + calculate error and cost (same code as above)\n",
    "pred=np.dot(X,W)+b\n",
    "error=(pred-y)\n",
    "cost=(1/(2*u))*sum(error**2)\n",
    "print('Coefficients: \\n', W)\n",
    "print(\"Mean squared error: %.2f\" % cost)\n",
    "print(\"=\"*120)"
   ]
  },
  {
   "cell_type": "code",
   "execution_count": null,
   "metadata": {},
   "outputs": [],
   "source": []
  },
  {
   "cell_type": "code",
   "execution_count": null,
   "metadata": {},
   "outputs": [],
   "source": []
  }
 ],
 "metadata": {
  "colab": {
   "name": "week1assignment.ipynb",
   "provenance": []
  },
  "kernelspec": {
   "display_name": "Python 3",
   "language": "python",
   "name": "python3"
  },
  "language_info": {
   "codemirror_mode": {
    "name": "ipython",
    "version": 3
   },
   "file_extension": ".py",
   "mimetype": "text/x-python",
   "name": "python",
   "nbconvert_exporter": "python",
   "pygments_lexer": "ipython3",
   "version": "3.7.0"
  }
 },
 "nbformat": 4,
 "nbformat_minor": 1
}
